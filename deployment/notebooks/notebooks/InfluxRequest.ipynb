{
 "cells": [
  {
   "cell_type": "code",
   "execution_count": 136,
   "id": "42d1bd05",
   "metadata": {},
   "outputs": [],
   "source": [
    "import requests\n",
    "import json\n",
    "class Influx():\n",
    "    def __init__(self):\n",
    "        self.write_url = 'http://host.docker.internal:8086/api/v2/write'\n",
    "        self.query_url = 'http://host.docker.internal:8086/api/v2/query'\n",
    "        self.org = 'test'\n",
    "        self.bucket = 'test'\n",
    "        self.precision ='ms'\n",
    "        self.token = '6b9JljDYHPYro1C3-cv8MrAQtmtUM3WrZlRjkiSEhzZUPYFvETKG0WMVLf6vKd0tcN0awHkul_zTbAuK8IaNTw=='\n",
    "    \n",
    "    def write(self, line):\n",
    "        headers = {'Authorization' : f'Token {self.token}'}\n",
    "        params = {'org': self.org, 'bucket': self.bucket, 'precision': self.precision}\n",
    "        return requests.post(self.write_url, headers=headers, params=params, data = line)\n",
    "    \n",
    "    def query(self, flux):\n",
    "        headers = {'Authorization' : f'Token {self.token}'}\n",
    "        params = {'org': self.org}\n",
    "        data = {}\n",
    "        data[\"type\"] = \"flux\"\n",
    "        data[\"query\"] = flux\n",
    "    \n",
    "        \n",
    "        return requests.post(self.query_url, headers=headers, params=params, json = data)\n",
    "    \n",
    "    \n",
    "        "
   ]
  },
  {
   "cell_type": "code",
   "execution_count": 137,
   "id": "ea77094b",
   "metadata": {},
   "outputs": [],
   "source": [
    "influx= Influx()"
   ]
  },
  {
   "cell_type": "code",
   "execution_count": 123,
   "id": "77401ea2",
   "metadata": {},
   "outputs": [],
   "source": [
    "data = '''disk,created_date=2021-07-14,created_at=2021-07-1405:37:56,tag_id=2575,additional_tags=91 usage_user=85,usage_system=89,usage_idle=19,usage_nice=72,usage_iowait=95,usage_irq=31,usage_softirq=14,usage_steal=42,usage_guest=14,usage_guest_nice=13 1626241076763\n",
    "disk,created_date=2021-07-14,created_at=2021-07-1405:37:56,tag_id=0363,additional_tags=65 usage_user=17,usage_system=24,usage_idle=86,usage_nice=85,usage_iowait=17,usage_irq=04,usage_softirq=09,usage_steal=74,usage_guest=27,usage_guest_nice=17 1626241076764\n",
    "disk,created_date=2021-07-14,created_at=2021-07-1405:37:56,tag_id=8351,additional_tags=45 usage_user=04,usage_system=64,usage_idle=65,usage_nice=16,usage_iowait=80,usage_irq=55,usage_softirq=62,usage_steal=94,usage_guest=92,usage_guest_nice=25 1626241076765\n",
    "disk,created_date=2021-07-14,created_at=2021-07-1405:37:56,tag_id=6968,additional_tags=59 usage_user=18,usage_system=12,usage_idle=75,usage_nice=06,usage_iowait=13,usage_irq=40,usage_softirq=55,usage_steal=40,usage_guest=37,usage_guest_nice=32 1626241076766\n",
    "disk,created_date=2021-07-14,created_at=2021-07-1405:37:56,tag_id=0970,additional_tags=54 usage_user=96,usage_system=15,usage_idle=64,usage_nice=24,usage_iowait=40,usage_irq=91,usage_softirq=54,usage_steal=83,usage_guest=39,usage_guest_nice=48 1626241076767\n",
    "disk,created_date=2021-07-14,created_at=2021-07-1405:37:56,tag_id=6058,additional_tags=77 usage_user=42,usage_system=63,usage_idle=93,usage_nice=12,usage_iowait=35,usage_irq=91,usage_softirq=58,usage_steal=19,usage_guest=19,usage_guest_nice=61 1626241076768\n",
    "disk,created_date=2021-07-14,created_at=2021-07-1405:37:56,tag_id=8529,additional_tags=05 usage_user=75,usage_system=56,usage_idle=98,usage_nice=89,usage_iowait=13,usage_irq=07,usage_softirq=46,usage_steal=38,usage_guest=51,usage_guest_nice=90 1626241076769\n",
    "disk,created_date=2021-07-14,created_at=2021-07-1405:37:56,tag_id=3669,additional_tags=47 usage_user=36,usage_system=25,usage_idle=57,usage_nice=96,usage_iowait=95,usage_irq=08,usage_softirq=36,usage_steal=01,usage_guest=75,usage_guest_nice=20 1626241076770\n",
    "disk,created_date=2021-07-14,created_at=2021-07-1405:37:56,tag_id=7780,additional_tags=90 usage_user=18,usage_system=94,usage_idle=42,usage_nice=54,usage_iowait=17,usage_irq=07,usage_softirq=66,usage_steal=84,usage_guest=09,usage_guest_nice=24 1626241076771\n",
    "disk,created_date=2021-07-14,created_at=2021-07-1405:37:56,tag_id=1237,additional_tags=25 usage_user=38,usage_system=43,usage_idle=87,usage_nice=89,usage_iowait=75,usage_irq=13,usage_softirq=11,usage_steal=98,usage_guest=93,usage_guest_nice=07 1626241076772'''\n",
    "r = influx.write(data)\n",
    "\n"
   ]
  },
  {
   "cell_type": "code",
   "execution_count": 124,
   "id": "f04169eb",
   "metadata": {},
   "outputs": [
    {
     "name": "stdout",
     "output_type": "stream",
     "text": [
      "204\n"
     ]
    }
   ],
   "source": [
    "print(r.status_code)"
   ]
  },
  {
   "cell_type": "code",
   "execution_count": 125,
   "id": "6388e467",
   "metadata": {},
   "outputs": [
    {
     "name": "stdout",
     "output_type": "stream",
     "text": [
      "\n"
     ]
    }
   ],
   "source": [
    "print(r.text)"
   ]
  },
  {
   "cell_type": "code",
   "execution_count": 138,
   "id": "4f226032",
   "metadata": {},
   "outputs": [],
   "source": [
    "query = '''\n",
    "from(bucket: \"test\")\n",
    "  |> range(start: -2d)\n",
    "  |> group(columns: [\"_measurement\"])\n",
    "  |> filter(fn: (r) =>\n",
    "      r[\"_measurement\"] == \"cpu\" and\n",
    "      r[\"_field\"] == \"usage_guest\"\n",
    "  )\n",
    "  |> count()\n",
    "  |> yield()\n",
    "'''"
   ]
  },
  {
   "cell_type": "code",
   "execution_count": 142,
   "id": "0aebf390",
   "metadata": {},
   "outputs": [
    {
     "name": "stdout",
     "output_type": "stream",
     "text": [
      "r.text ,result,table,_start,_stop,_measurement,_value\r\n",
      ",_result,0,2021-07-12T20:50:07.981411Z,2021-07-14T20:50:07.981411Z,cpu,20\r\n",
      "\r\n",
      "\n",
      "result count 20\r\n"
     ]
    }
   ],
   "source": [
    "r = influx.query(query)\n",
    "print('r.text', r.text)\n",
    "\n",
    "result = r.text\n",
    "result_row = result.split('\\n')[1]\n",
    "result_count = result_row.split(',')[-1]\n",
    "\n",
    "print('result count', result_count)"
   ]
  }
 ],
 "metadata": {
  "kernelspec": {
   "display_name": "Python 3",
   "language": "python",
   "name": "python3"
  },
  "language_info": {
   "codemirror_mode": {
    "name": "ipython",
    "version": 3
   },
   "file_extension": ".py",
   "mimetype": "text/x-python",
   "name": "python",
   "nbconvert_exporter": "python",
   "pygments_lexer": "ipython3",
   "version": "3.8.8"
  }
 },
 "nbformat": 4,
 "nbformat_minor": 5
}
