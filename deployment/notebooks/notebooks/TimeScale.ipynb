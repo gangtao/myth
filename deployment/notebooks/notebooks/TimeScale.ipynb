{
 "cells": [
  {
   "cell_type": "code",
   "execution_count": 35,
   "id": "2cfff3cc",
   "metadata": {},
   "outputs": [
    {
     "name": "stdout",
     "output_type": "stream",
     "text": [
      "Postgres connection is closed\n"
     ]
    }
   ],
   "source": [
    "import psycopg2 as pg\n",
    "import datetime as dt\n",
    "\n",
    "try:\n",
    "    connection = pg.connect(user=\"test\",\n",
    "                            password=\"test\",\n",
    "                            host=\"host.docker.internal\",\n",
    "                            port=\"5432\",\n",
    "                            dbname=\"devops\")\n",
    "    cursor = connection.cursor()\n",
    "    \n",
    "    # text-only query\n",
    "    cursor.execute('''CREATE TABLE IF NOT EXISTS weather_metrics (\n",
    "           time TIMESTAMP WITHOUT TIME ZONE NOT NULL,\n",
    "           timezone_shift int NULL,\n",
    "           city_name text NULL,\n",
    "           temp_c double PRECISION NULL,\n",
    "           feels_like_c double PRECISION NULL,\n",
    "           temp_min_c double PRECISION NULL,\n",
    "           temp_max_c double PRECISION NULL,\n",
    "           pressure_hpa double PRECISION NULL,\n",
    "           humidity_percent double PRECISION NULL,\n",
    "           wind_speed_ms double PRECISION NULL,\n",
    "           wind_deg int NULL,\n",
    "           rain_1h_mm double PRECISION NULL,\n",
    "           rain_3h_mm double PRECISION NULL,\n",
    "           snow_1h_mm double PRECISION NULL,\n",
    "           snow_3h_mm double PRECISION NULL,\n",
    "           clouds_percent int NULL,\n",
    "           weather_type_id int NULL\n",
    "        )''')\n",
    "\n",
    "    cursor.execute('''SELECT create_hypertable('weather_metrics','time')''')\n",
    "    connection.commit()\n",
    "\n",
    "    cursor.execute(\"SELECT * FROM weather_metrics;\")\n",
    "    records = cursor.fetchall()\n",
    "    for row in records:\n",
    "        print(row)\n",
    "\n",
    "finally:\n",
    "    if (connection):\n",
    "        cursor.close()\n",
    "        connection.close()\n",
    "        print(\"Postgres connection is closed\")"
   ]
  },
  {
   "cell_type": "code",
   "execution_count": 36,
   "id": "8bb5bdc2",
   "metadata": {},
   "outputs": [
    {
     "name": "stdout",
     "output_type": "stream",
     "text": [
      "Postgres connection is closed\n"
     ]
    }
   ],
   "source": [
    "import psycopg2 as pg\n",
    "import datetime as dt\n",
    "\n",
    "try:\n",
    "    connection = pg.connect(user=\"test\",\n",
    "                            password=\"test\",\n",
    "                            host=\"host.docker.internal\",\n",
    "                            port=\"5432\",\n",
    "                            dbname=\"devops\")\n",
    "    cursor = connection.cursor()\n",
    "\n",
    "    cursor.execute(\"INSERT INTO weather_metrics VALUES (NOW(), 0, 'xian', 0.1,0.2,0.3,0.4,0.5,0.6,0.7, 1, 1.0,1.2,1.4,1.5,10,3)\")\n",
    "    connection.commit()\n",
    "finally:\n",
    "    if (connection):\n",
    "        cursor.close()\n",
    "        connection.close()\n",
    "        print(\"Postgres connection is closed\")"
   ]
  },
  {
   "cell_type": "code",
   "execution_count": 37,
   "id": "85ef3178",
   "metadata": {},
   "outputs": [
    {
     "name": "stdout",
     "output_type": "stream",
     "text": [
      "(datetime.datetime(2021, 7, 22, 22, 23, 27, 526014), 0, 'xian', 0.1, 0.2, 0.3, 0.4, 0.5, 0.6, 0.7, 1, 1.0, 1.2, 1.4, 1.5, 10, 3)\n",
      "Postgres connection is closed\n"
     ]
    }
   ],
   "source": [
    "import psycopg2 as pg\n",
    "import datetime as dt\n",
    "\n",
    "try:\n",
    "    connection = pg.connect(user=\"test\",\n",
    "                            password=\"test\",\n",
    "                            host=\"host.docker.internal\",\n",
    "                            port=\"5432\",\n",
    "                            dbname=\"devops\")\n",
    "    cursor = connection.cursor()\n",
    "\n",
    "    cursor.execute(\"SELECT * FROM weather_metrics;\")\n",
    "    records = cursor.fetchall()\n",
    "    for row in records:\n",
    "        print(row)\n",
    "\n",
    "finally:\n",
    "    if (connection):\n",
    "        cursor.close()\n",
    "        connection.close()\n",
    "        print(\"Postgres connection is closed\")"
   ]
  },
  {
   "cell_type": "code",
   "execution_count": 38,
   "id": "a7885f64",
   "metadata": {},
   "outputs": [
    {
     "name": "stdout",
     "output_type": "stream",
     "text": [
      "psycopg2-binary                    2.9.1\r\n"
     ]
    }
   ],
   "source": [
    "! pip list | grep psycopg2-binary"
   ]
  }
 ],
 "metadata": {
  "kernelspec": {
   "display_name": "Python 3",
   "language": "python",
   "name": "python3"
  },
  "language_info": {
   "codemirror_mode": {
    "name": "ipython",
    "version": 3
   },
   "file_extension": ".py",
   "mimetype": "text/x-python",
   "name": "python",
   "nbconvert_exporter": "python",
   "pygments_lexer": "ipython3",
   "version": "3.8.8"
  }
 },
 "nbformat": 4,
 "nbformat_minor": 5
}
