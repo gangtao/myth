{
 "cells": [
  {
   "cell_type": "code",
   "execution_count": 17,
   "id": "036a5bdd",
   "metadata": {},
   "outputs": [],
   "source": [
    "import requests\n",
    "import json\n",
    "class Influx():\n",
    "    def __init__(self):\n",
    "        self.write_url = 'http://host.docker.internal:8086/write'\n",
    "        self.query_url = 'http://host.docker.internal:8086/query'\n",
    "    \n",
    "    def write(self, line):\n",
    "        params = {'db': 'devops'}\n",
    "        return requests.post(self.write_url, params=params, data = line)\n",
    "    \n",
    "    def query(self, influxql):\n",
    "        params = {'db': 'devops', 'pretty':'true', 'q':influxql}\n",
    "        return requests.post(self.query_url, params=params)\n"
   ]
  },
  {
   "cell_type": "code",
   "execution_count": 18,
   "id": "bd7eea74",
   "metadata": {},
   "outputs": [],
   "source": [
    "influx = Influx()"
   ]
  },
  {
   "cell_type": "code",
   "execution_count": 19,
   "id": "90d83ae3",
   "metadata": {},
   "outputs": [
    {
     "data": {
      "text/plain": [
       "<Response [204]>"
      ]
     },
     "execution_count": 19,
     "metadata": {},
     "output_type": "execute_result"
    }
   ],
   "source": [
    "influx.write('cpu_load_short,host=server01,region=us-west value=0.64 1434055562000000000')"
   ]
  },
  {
   "cell_type": "code",
   "execution_count": 32,
   "id": "22baadaf",
   "metadata": {},
   "outputs": [],
   "source": [
    "r = influx.query('select count(*) from cpu_load_short')"
   ]
  },
  {
   "cell_type": "code",
   "execution_count": 33,
   "id": "c02a7c94",
   "metadata": {},
   "outputs": [],
   "source": [
    "result = r.json()"
   ]
  },
  {
   "cell_type": "code",
   "execution_count": 41,
   "id": "648ff99d",
   "metadata": {},
   "outputs": [
    {
     "data": {
      "text/plain": [
       "1"
      ]
     },
     "execution_count": 41,
     "metadata": {},
     "output_type": "execute_result"
    }
   ],
   "source": [
    "result['results'][0]['series'][0]['values'][0][1]"
   ]
  }
 ],
 "metadata": {
  "kernelspec": {
   "display_name": "Python 3",
   "language": "python",
   "name": "python3"
  },
  "language_info": {
   "codemirror_mode": {
    "name": "ipython",
    "version": 3
   },
   "file_extension": ".py",
   "mimetype": "text/x-python",
   "name": "python",
   "nbconvert_exporter": "python",
   "pygments_lexer": "ipython3",
   "version": "3.8.8"
  }
 },
 "nbformat": 4,
 "nbformat_minor": 5
}
