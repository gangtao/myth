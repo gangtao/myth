{
 "cells": [
  {
   "cell_type": "code",
   "execution_count": 32,
   "id": "bc1b8835",
   "metadata": {},
   "outputs": [],
   "source": [
    "import time\n",
    "import socket\n",
    "\n",
    "HOST = 'questdb'\n",
    "PORT = 9009\n",
    "# For UDP, change socket.SOCK_STREAM to socket.SOCK_DGRAM\n",
    "sock = socket.socket(socket.AF_INET, socket.SOCK_STREAM)\n",
    "\n",
    "try:\n",
    "  sock.connect((HOST, PORT))\n",
    "  # Single record insert\n",
    "  sock.sendall(('sensors,location=london temperature=22,warning=false %d\\n' %(time.time_ns())).encode())\n",
    "  # Omitting the timestamp allows the server to assign one\n",
    "  sock.sendall(('sensors,location=london,x=y temperature=22,warning=false\\n').encode())\n",
    " \n",
    "except socket.error as e:\n",
    "  print(\"Got error: %s\" % (e))\n",
    "\n",
    "sock.close()"
   ]
  },
  {
   "cell_type": "code",
   "execution_count": 25,
   "id": "db740827",
   "metadata": {},
   "outputs": [
    {
     "ename": "ModuleNotFoundError",
     "evalue": "No module named 'psycopg2'",
     "output_type": "error",
     "traceback": [
      "\u001b[0;31m---------------------------------------------------------------------------\u001b[0m",
      "\u001b[0;31mModuleNotFoundError\u001b[0m                       Traceback (most recent call last)",
      "\u001b[0;32m<ipython-input-25-5fb4b6a5016d>\u001b[0m in \u001b[0;36m<module>\u001b[0;34m\u001b[0m\n\u001b[0;32m----> 1\u001b[0;31m \u001b[0;32mimport\u001b[0m \u001b[0mpsycopg2\u001b[0m\u001b[0;34m\u001b[0m\u001b[0;34m\u001b[0m\u001b[0m\n\u001b[0m\u001b[1;32m      2\u001b[0m \u001b[0;32mtry\u001b[0m\u001b[0;34m:\u001b[0m\u001b[0;34m\u001b[0m\u001b[0;34m\u001b[0m\u001b[0m\n\u001b[1;32m      3\u001b[0m     connection = psycopg2.connect(user=\"admin\",\n\u001b[1;32m      4\u001b[0m                                   \u001b[0mpassword\u001b[0m\u001b[0;34m=\u001b[0m\u001b[0;34m\"quest\"\u001b[0m\u001b[0;34m,\u001b[0m\u001b[0;34m\u001b[0m\u001b[0;34m\u001b[0m\u001b[0m\n\u001b[1;32m      5\u001b[0m                                   \u001b[0mhost\u001b[0m\u001b[0;34m=\u001b[0m\u001b[0;34m\"host.docker.internal\"\u001b[0m\u001b[0;34m,\u001b[0m\u001b[0;34m\u001b[0m\u001b[0;34m\u001b[0m\u001b[0m\n",
      "\u001b[0;31mModuleNotFoundError\u001b[0m: No module named 'psycopg2'"
     ]
    }
   ],
   "source": [
    "import psycopg2\n",
    "try:\n",
    "    connection = psycopg2.connect(user=\"admin\",\n",
    "                                  password=\"quest\",\n",
    "                                  host=\"host.docker.internal\",\n",
    "                                  port=\"8812\",\n",
    "                                  database=\"qdb\")\n",
    "\n",
    "    cursor = connection.cursor()\n",
    "    # Print PostgreSQL Connection properties\n",
    "    print(connection.get_dsn_parameters(), \"\\n\")\n",
    "\n",
    "    # Print PostgreSQL version\n",
    "    cursor.execute(\"SELECT version();\")\n",
    "    record = cursor.fetchone()\n",
    "    print(\"You are connected to - \", record, \"\\n\")\n",
    "\n",
    "except (Exception, psycopg2.Error) as error:\n",
    "    print(\"Error while connecting to PostgreSQL\", error)\n",
    "finally:\n",
    "    #closing database connection.\n",
    "    if (connection):\n",
    "        cursor.close()\n",
    "        connection.close()\n",
    "        print(\"PostgreSQL connection is closed\")"
   ]
  }
 ],
 "metadata": {
  "kernelspec": {
   "display_name": "Python 3",
   "language": "python",
   "name": "python3"
  },
  "language_info": {
   "codemirror_mode": {
    "name": "ipython",
    "version": 3
   },
   "file_extension": ".py",
   "mimetype": "text/x-python",
   "name": "python",
   "nbconvert_exporter": "python",
   "pygments_lexer": "ipython3",
   "version": "3.8.8"
  }
 },
 "nbformat": 4,
 "nbformat_minor": 5
}
